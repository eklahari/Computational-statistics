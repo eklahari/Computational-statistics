{
  "cells": [
    {
      "cell_type": "markdown",
      "metadata": {
        "id": "view-in-github",
        "colab_type": "text"
      },
      "source": [
        "<a href=\"https://colab.research.google.com/github/eklahari/Computational-statistics/blob/main/CS_LABPROGRAMS.ipynb\" target=\"_parent\"><img src=\"https://colab.research.google.com/assets/colab-badge.svg\" alt=\"Open In Colab\"/></a>"
      ]
    },
    {
      "cell_type": "code",
      "execution_count": null,
      "id": "206ef10f",
      "metadata": {
        "id": "206ef10f",
        "outputId": "b3c1067a-c1e1-4ea8-bd29-d04071bce5c7"
      },
      "outputs": [
        {
          "name": "stdout",
          "output_type": "stream",
          "text": [
            "Enter the no. of elements:5\n",
            "Enter x[0]:0\n",
            "Enter x[1]:1\n",
            "Enter x[2]:3\n",
            "Enter x[3]:6\n",
            "Enter x[4]:8\n",
            "Enter y[0]:1\n",
            "Enter y[1]:3\n",
            "Enter y[2]:2\n",
            "Enter y[3]:5\n",
            "Enter y[4]:4\n",
            "6.393805309734511 10.0\n",
            "R^2= 0.6393805309734512\n",
            "This is not a Best fitting Line\n",
            "Value of a: 1.6460176991150444\n",
            "Value of b: 0.37610619469026546\n",
            "The best fitting of straight line obtained is y= 1.6460176991150444 + 0.37610619469026546 * x\n",
            "Plot of X and Y using given values and predicted values.\n"
          ]
        },
        {
          "data": {
            "image/png": "[encoded data removed]",
            "text/plain": [
              "<Figure size 432x288 with 1 Axes>"
            ]
          },
          "metadata": {
            "needs_background": "light"
          },
          "output_type": "display_data"
        }
      ],
      "source": [
        "#Best Fitting of Strainght Line\n",
        "import matplotlib.pyplot as plt\n",
        "import numpy as np\n",
        "n=int(input(\"Enter the no. of elements:\"))\n",
        "x=np.array([float(input(\"Enter x[\"+str(i)+\"]:\"))for i in range(n)])\n",
        "y=np.array([float(input(\"Enter y[\"+str(i)+\"]:\"))for i in range(n)])\n",
        "x2=np.power(x,2)\n",
        "xy=np.multiply(x,y)\n",
        "sumx=np.sum(x)\n",
        "sumx2=np.sum(x2)\n",
        "sumy=np.sum(y)\n",
        "sumxy=np.sum(xy)\n",
        "b=((sumy*sumx)-(sumxy*n))/((sumx*sumx)-(n*sumx2))\n",
        "a=((sumy)-(sumx*b))/n\n",
        "\n",
        "ybar=sumy/n\n",
        "ycap=np.array([(a+b*i) for i in x])\n",
        "SST=np.sum(np.power((y-ybar),2))\n",
        "SSR=np.sum(np.power((ycap-ybar),2))\n",
        "print(SSR,SST)\n",
        "R2=SSR/SST\n",
        "print(\"R^2=\",R2)\n",
        "if(R2>=0.9):\n",
        "    print(\"This is a Best fitting Line\")\n",
        "else:\n",
        "    print(\"This is not a Best fitting Line\")\n",
        "\n",
        "print(\"Value of a:\",a)\n",
        "print(\"Value of b:\",b)\n",
        "print(\"The best fitting of straight line obtained is y=\",a,\"+\",b,\"* x\")\n",
        "\n",
        "print(\"Plot of X and Y using given values and predicted values.\")\n",
        "plt.plot(x, y)\n",
        "plt.plot(x, ycap)\n",
        "plt.show()\n"
      ]
    },
    {
      "cell_type": "code",
      "execution_count": null,
      "id": "69b9a580",
      "metadata": {
        "id": "69b9a580",
        "outputId": "64c1eca5-4349-45c8-8995-98c81484bf68"
      },
      "outputs": [
        {
          "name": "stdout",
          "output_type": "stream",
          "text": [
            "Enter the no. of elements:5\n",
            "Enter x00\n",
            "Enter x11\n",
            "Enter x22\n",
            "Enter x33\n",
            "Enter x44\n",
            "Enter y01\n",
            "Enter y11.8\n",
            "Enter y21.3\n",
            "Enter y32.5\n",
            "Enter y46.3\n",
            "Value of a: 1.4200000000000104\n",
            "Value of b: -1.0700000000000143\n",
            "Value of c: 0.5500000000000029\n",
            "R^2= 0.914783731439638\n",
            "This is a Best fitting of Parabola\n",
            "The best fitting of straight line obtained is y= 1.4200000000000104 + -1.0700000000000143 * x + 0.5500000000000029 x^2\n",
            "Plot of X and Y using given values and predicted values.\n"
          ]
        },
        {
          "data": {
            "image/png": "[encoded data removed]",
            "text/plain": [
              "<Figure size 432x288 with 1 Axes>"
            ]
          },
          "metadata": {
            "needs_background": "light"
          },
          "output_type": "display_data"
        }
      ],
      "source": [
        "#Best Fitting of Parabola\n",
        "import matplotlib.pyplot as plt\n",
        "import numpy as np\n",
        "n=int(input(\"Enter the no. of elements:\"))\n",
        "x=np.array([float(input(\"Enter x[\"+str(i)+\"]:\"))for i in range(n)])\n",
        "y=np.array([float(input(\"Enter y[\"+str(i)+\"]:\"))for i in range(n)])\n",
        "x2=np.power(x,2)\n",
        "x3=np.power(x,3)\n",
        "x4=np.power(x,4)\n",
        "x2y=np.multiply(x2,y)\n",
        "xy=np.multiply(x,y)\n",
        "sumx=np.sum(x)\n",
        "sumx2=np.sum(x2)\n",
        "sumx3=np.sum(x3)\n",
        "sumx4=np.sum(x4)\n",
        "sumy=np.sum(y)\n",
        "sumxy=np.sum(xy)\n",
        "sumx2y=np.sum(x2y)\n",
        "\n",
        "def det(a):\n",
        "  return (a[0][0] * (a[1][1] * a[2][2] - a[2][1] * a[1][2])\n",
        "    -a[1][0] * (a[0][1] * a[2][2] - a[2][1] * a[0][2])\n",
        "    +a[2][0] * (a[0][1] * a[1][2] - a[1][1] * a[0][2]))\n",
        "d=[sumy,sumxy,sumx2y]\n",
        "delta=[[n,sumx,sumx2],[sumx,sumx2,sumx3],[sumx2,sumx3,sumx4]]\n",
        "delt=[0,0,0]\n",
        "for i in range(3):\n",
        "    deltc=delta.copy()\n",
        "    deltc[i]=d\n",
        "    delt[i]=det(deltc)/det(delta)\n",
        "a,b,c=delt\n",
        "\n",
        "print(\"Value of a:\",a)\n",
        "print(\"Value of b:\",b)\n",
        "print(\"Value of c:\",c)\n",
        "\n",
        "ybar=sumy/n\n",
        "ycap=np.array([(a+b*i+c*i*i) for i in x])\n",
        "SST=np.sum(np.power((y-ybar),2))\n",
        "SSR=np.sum(np.power((ycap-ybar),2))\n",
        "R2=SSR/SST\n",
        "print(\"R^2=\",R2)\n",
        "if(R2>=0.9):\n",
        "    print(\"This is a Best fitting of Parabola\")\n",
        "else:\n",
        "    print(\"This is not a Best fitting Parabola\")\n",
        "\n",
        "print(\"The best fitting of straight line obtained is y=\",a,\"+\",b,\"* x +\",c,\"x^2\")\n",
        "\n",
        "print(\"Plot of X and Y using given values and predicted values.\")\n",
        "plt.plot(x, y)\n",
        "plt.plot(x, ycap)\n",
        "plt.show()\n",
        "\n",
        "\n"
      ]
    },
    {
      "cell_type": "code",
      "execution_count": null,
      "id": "677f8e08",
      "metadata": {
        "id": "677f8e08",
        "outputId": "0ad8d48b-40ed-479b-ea4f-c9bc58ac6416"
      },
      "outputs": [
        {
          "name": "stdout",
          "output_type": "stream",
          "text": [
            "Enter the no. of elements:8\n",
            "Enter x[0]:3\n",
            "Enter x[1]:7\n",
            "Enter x[2]:4\n",
            "Enter x[3]:2\n",
            "Enter x[4]:0\n",
            "Enter x[5]:4\n",
            "Enter x[6]:1\n",
            "Enter x[7]:2\n",
            "Enter y[0]:11\n",
            "Enter y[1]:18\n",
            "Enter y[2]:9\n",
            "Enter y[3]:4\n",
            "Enter y[4]:7\n",
            "Enter y[5]:6\n",
            "Enter y[6]:3\n",
            "Enter y[7]:8\n",
            "cov(x,y): 7.03125 ,sx: 2.027159342528357 ,sy: 4.408798022137099\n",
            "The Correlation Coefficient Value: 0.7867277140983885\n"
          ]
        }
      ],
      "source": [
        "#Correlation Coefficient\n",
        "import matplotlib.pyplot as plt\n",
        "import numpy as np\n",
        "n=int(input(\"Enter the no. of elements:\"))\n",
        "x=np.array([float(input(\"Enter x[\"+str(i)+\"]:\"))for i in range(n)])\n",
        "y=np.array([float(input(\"Enter y[\"+str(i)+\"]:\"))for i in range(n)])\n",
        "x2=np.power(x,2)\n",
        "y2=np.power(y,2)\n",
        "xy=np.multiply(x,y)\n",
        "sumx2=np.sum(x2)\n",
        "sumy2=np.sum(y2)\n",
        "sumxy=np.sum(xy)\n",
        "xbar=np.mean(x)\n",
        "ybar=np.mean(y)\n",
        "cov=(sumxy/n)-(xbar*ybar)\n",
        "sx=np.sqrt((sumx2/n)-(xbar*xbar))\n",
        "sy=np.sqrt((sumy2/n)-(ybar*ybar))\n",
        "r=cov/(sx*sy)\n",
        "print(\"cov(x,y):\",cov,\",sx:\",sx,\",sy:\",sy)\n",
        "print(\"The Correlation Coefficient Value:\",r)\n",
        "\n"
      ]
    },
    {
      "cell_type": "code",
      "execution_count": null,
      "id": "09041d5e",
      "metadata": {
        "id": "09041d5e",
        "outputId": "4fe4a98a-28b5-4884-eb12-a0a92fcc5390"
      },
      "outputs": [
        {
          "name": "stdout",
          "output_type": "stream",
          "text": [
            "Enter the no. of elements:6\n",
            "Enter x[0]:2\n",
            "Enter x[1]:5\n",
            "Enter x[2]:3\n",
            "Enter x[3]:4\n",
            "Enter x[4]:9\n",
            "Enter x[5]:12\n",
            "Enter y[0]:12\n",
            "Enter y[1]:8\n",
            "Enter y[2]:6\n",
            "Enter y[3]:8\n",
            "Enter y[4]:4\n",
            "Enter y[5]:5\n",
            "The Regression line x on y: x=(-1.0)*y+(13.0)\n",
            "The Regression line y on x: y=(-0.5457)*x+(10.3497)\n"
          ]
        }
      ],
      "source": [
        "#Regression Lines\n",
        "import matplotlib.pyplot as plt\n",
        "import numpy as np\n",
        "n=int(input(\"Enter the no. of elements:\"))\n",
        "x=np.array([float(input(\"Enter x[\"+str(i)+\"]:\"))for i in range(n)])\n",
        "y=np.array([float(input(\"Enter y[\"+str(i)+\"]:\"))for i in range(n)])\n",
        "x2=np.power(x,2)\n",
        "y2=np.power(y,2)\n",
        "xy=np.multiply(x,y)\n",
        "sumx2=np.sum(x2)\n",
        "sumy2=np.sum(y2)\n",
        "sumxy=np.sum(xy)\n",
        "xbar=np.mean(x)\n",
        "ybar=np.mean(y)\n",
        "cov=(sumxy/n)-(xbar*ybar)\n",
        "sx=np.sqrt((sumx2/n)-(xbar*xbar))\n",
        "sy=np.sqrt((sumy2/n)-(ybar*ybar))\n",
        "r=cov/(sx*sy)\n",
        "bxy=(r)*(sx/sy)\n",
        "byx=(r)*(sy/sx)\n",
        "\n",
        "print(\"The Regression line x on y: x=(\"+str(np.round(bxy,decimals=4))+\")*y+(\"+str(np.round(xbar-bxy*ybar,decimals=4))+\")\")\n",
        "print(\"The Regression line y on x: y=(\"+str(np.round(byx,decimals=4))+\")*x+(\"+str(np.round(ybar-byx*xbar,decimals=4))+\")\")\n",
        "\n"
      ]
    },
    {
      "cell_type": "code",
      "execution_count": null,
      "id": "11b00c9a",
      "metadata": {
        "id": "11b00c9a",
        "outputId": "eb634f18-bb93-4a9a-a0d5-30512f01bf04"
      },
      "outputs": [
        {
          "name": "stdout",
          "output_type": "stream",
          "text": [
            "Enter the values of x : 68 64 75 50 64 80 75 40 55 64\n",
            "Enter the values of y : 62 58 68 45 81 60 68 48 50 70\n",
            "The Spearman's Rank Correlation Coefficient is  0.5454545454545454\n"
          ]
        }
      ],
      "source": [
        "#Rank Correleation Coffiecient\n",
        "import numpy as np\n",
        "def rank(x,z):\n",
        "    rx = []\n",
        "    i = 0\n",
        "    cf = 0\n",
        "    r = []\n",
        "    while(i!=len(x)):\n",
        "            y = x.count(x[i])\n",
        "            if(y>1 and x[i] not in r):\n",
        "                r.append(x[i])\n",
        "                cf = cf + y*(y**2-1)/12\n",
        "            avg = z.index(x[i])+1+(y-1)/2\n",
        "            rx.append(avg)\n",
        "            i = i+1\n",
        "    return (np.array(rx),cf)\n",
        "x = [float(i) for i in input(\"Enter the values of x : \").split(\" \")]\n",
        "y = [float(i) for i in input(\"Enter the values of y : \").split(\" \")]\n",
        "n = np.size(x)\n",
        "rx,cf1 = rank(x,sorted(x,reverse = True))\n",
        "ry,cf2 = rank(y,sorted(y,reverse = True))\n",
        "cf = cf1+cf2\n",
        "di2 = (rx-ry)**2\n",
        "sumdi2 = np.sum(di2)\n",
        "row = 1-(6*(sumdi2+cf)/(n*(n**2-1)))\n",
        "print(\"The Spearman's Rank Correlation Coefficient is \",row)"
      ]
    },
    {
      "cell_type": "code",
      "execution_count": null,
      "id": "698b314c",
      "metadata": {
        "id": "698b314c",
        "outputId": "9609229a-1cf3-4f77-c802-a5697dab3f35"
      },
      "outputs": [
        {
          "name": "stdout",
          "output_type": "stream",
          "text": [
            "Enter the no. of samples:3\n",
            "Enter the values of sample 0 : 10 12 9 16 13\n",
            "Enter the values of sample 1 : 9 7 12 11 11\n",
            "Enter the values of sample 2 : 14 11 15 14 16\n",
            "180.0 2160.0 2260.0 2200.0 40.0 100.0 60.0 20.0 5.0\n",
            "Fcal: 4.0\n",
            "Ftab: 3.8852938346523933\n",
            "The Effect of all variables is NOT EQUAL\n"
          ]
        }
      ],
      "source": [
        "#ANOVA One Way Classification.\n",
        "import matplotlib.pyplot as plt\n",
        "import numpy as np\n",
        "import scipy.stats as sy\n",
        "\n",
        "n=int(input(\"Enter the no. of samples:\"))\n",
        "s=[]\n",
        "for i in range(n):\n",
        "    x = [float(i) for i in input(\"Enter the values of sample \"+str(i)+\" : \").split(\" \")]\n",
        "    s.append(x)\n",
        "ri=[len(s[i]) for i in range(n)]\n",
        "ti=[np.sum(s[i]) for i in range(n)]\n",
        "ti2=[j*j for j in ti]\n",
        "\n",
        "G=np.sum(ti)\n",
        "cf=G*G/np.sum(ri)\n",
        "sumti2=np.sum([np.sum([j*j for j in s[i]]) for i in range(n)])\n",
        "ti2_by_ri=np.sum(np.divide(ti2,ri))\n",
        "TrSS=ti2_by_ri-cf\n",
        "TSS=sumti2-cf\n",
        "ESS=TSS-TrSS\n",
        "T=TrSS/(n-1)\n",
        "E=ESS/(np.sum(ri)-n)\n",
        "print(G,cf,sumti2,ti2_by_ri,TrSS,TSS,ESS,T,E)\n",
        "if(T>E):\n",
        "    Fcal=T/E\n",
        "    v1,v2=n-1,np.sum(ri)-n\n",
        "else:\n",
        "    Fcal=E/T\n",
        "    v2,v1=n-1,np.sum(ri)-n\n",
        "print(\"Fcal:\",Fcal)\n",
        "Ftab=sy.f.ppf(0.95,v1,v2)\n",
        "print(\"Ftab:\",Ftab)\n",
        "if(Fcal<=Ftab):\n",
        "    print(\"The Effect of all variables is EQUAL\")\n",
        "else:\n",
        "    print(\"The Effect of all variables is NOT EQUAL\")\n",
        ""
      ]
    },
    {
      "cell_type": "code",
      "execution_count": null,
      "id": "fd61399a",
      "metadata": {
        "id": "fd61399a"
      },
      "outputs": [],
      "source": [
        "#ANOVA One Way Classification.\n",
        "import matplotlib.pyplot as plt\n",
        "import numpy as np\n",
        "import scipy.stats as sy\n",
        "\n",
        "n=int(input(\"Enter the no. of samples:\"))\n",
        "s=[]\n",
        "for i in range(n):\n",
        "   x = [float(i) for i in input(\"Enter the values of sample \"+str(i)+\" : \").split(\" \")]\n",
        "   s.append(x)\n",
        "los=float(input(\"Enter Level of Significance(If not given enter - 0.05):\"));\n",
        "#s=[[10,12,9,16,13],[9,7,12,11,11],[14,11,15,14,16]]\n",
        "\n",
        "ri=[len(s[i]) for i in range(n)]\n",
        "ti=[np.sum(s[i]) for i in range(n)]\n",
        "ti2=[j*j for j in ti]\n",
        "\n",
        "G=np.sum(ti)\n",
        "cf=G*G/np.sum(ri)\n",
        "sumti2=np.sum([np.sum([j*j for j in s[i]]) for i in range(n)])\n",
        "sumti2byr=np.sum(np.divide(ti2,ri))\n",
        "trss,tss=sumti2byr-cf,sumti2-cf\n",
        "ess=tss-trss\n",
        "dftr,dft,dfe=len(s)-1,np.sum(ri)-1,np.sum(ri)-len(s)\n",
        "t1,e1=trss/dftr,ess/dfe\n",
        "fcal=t1/e1\n",
        "if(fcal<1):\n",
        "    fcal=fcal**(-1)\n",
        "ftab=sy.f.ppf(1-los,dftr,dfe)\n",
        "#print(ri,ti,ti2,G,cf,sumti2,sumti2byr,trss,tss,ess,dftr,dft,dfe,t1,e1,fcal,ftab)\n",
        "print(\"F-calculated:\",fcal,\" F-table:\",ftab)\n",
        "if(fcal>ftab):\n",
        "    print(\"Since, Fcal>Ftab - The Effects of \",len(s),\" Samples are not equal\")\n",
        "else:\n",
        "    print(\"Since, Fcal<Ftab - The Effects of \",len(s),\" Samples are equal\")\n"
      ]
    },
    {
      "cell_type": "code",
      "execution_count": null,
      "id": "032997c1",
      "metadata": {
        "id": "032997c1"
      },
      "outputs": [],
      "source": [
        "#ANOVA Two Way Classification.\n",
        "import matplotlib.pyplot as plt\n",
        "import numpy as np\n",
        "import scipy.stats as sy\n",
        "\n",
        "n=int(input(\"Enter the no. of samples:\"))\n",
        "s=[]\n",
        "for i in range(n):\n",
        "   x = [float(i) for i in input(\"Enter the values of sample \"+str(i)+\" : \").split(\" \")]\n",
        "   s.append(x)\n",
        "los=float(input(\"Enter Level of Significance(If not given enter - 0.05):\"));\n",
        "#s=[[10,12,9,16,13],[9,7,12,11,11],[14,11,15,14,16]]\n",
        "ri=[len(s[i]) for i in range(n)]\n",
        "nt,nb=len(s),len(s[0])\n",
        "ti=[np.sum(s[i]) for i in range(nt)]\n",
        "ti2=[j*j for j in ti]\n",
        "st=np.transpose(s)\n",
        "bi=[np.sum(st[i]) for i in range(nb)]\n",
        "bi2=[j*j for j in bi]\n",
        "\n",
        "G=np.sum(ti)\n",
        "cf=G*G/np.sum(ri)\n",
        "sumti2=np.sum([np.sum([j*j for j in s[i]]) for i in range(nt)])\n",
        "sumti2bynb=np.sum(np.divide(ti2,nb))\n",
        "sumbi2bynt=np.sum(np.divide(bi2,nt))\n",
        "trss,bss,tss=sumti2bynb-cf,sumbi2bynt-cf,sumti2-cf\n",
        "ess=tss-trss-bss\n",
        "\n",
        "dftr,dfb,dft,dfe=len(s)-1,len(st)-1,np.sum(ri)-1,np.sum(ri)-len(s)-len(st)+1\n",
        "t1,b1,e1=trss/dftr,bss/dfb,ess/dfe\n",
        "fcal1=t1/e1\n",
        "fcal2=b1/e1\n",
        "if(fcal1<1):\n",
        "    fcal1=fcal1**(-1)\n",
        "if(fcal2<1):\n",
        "    fcal2=fcal2**(-1)\n",
        "ftab1=sy.f.ppf(1-los,dftr,dfe)\n",
        "ftab2=sy.f.ppf(1-los,dfb,dfe)\n",
        "#print(st,nt,nb,ri,ti,ti2,bi,bi2,G,cf,sumti2,sumti2bynb,sumbi2bynt,trss,bss,tss,ess,dftr,dfb,dft,dfe,t1,b1,e1,fcal1,ftab1,fcal2,ftab2)\n",
        "print(\"Inference for Treatments:\\nF-calculated:\",fcal1,\" F-table:\",ftab1)\n",
        "if(fcal1>ftab1):\n",
        "    print(\"Since, Fcal1>Ftab1 - We reject H0, alternatively we accept H1,\\ni.e. The Effects of \",len(s),\" Treatments are not equal\")\n",
        "else:\n",
        "    print(\"Since, Fcal1<Ftab1 - We accept H1,\\ni.e. The Effects of \",len(s),\" Treatments are equal\")\n",
        "print(\"Inference for Blocks:\\nF-calculated:\",fcal2,\" F-table:\",ftab2)\n",
        "if(fcal2>ftab2):\n",
        "    print(\"Since, Fcal1>Ftab1 - We reject H0, alternatively we accept H1,\\ni.e.The Effects of \",len(st),\" Blocks are not equal\")\n",
        "else:\n",
        "    print(\"Since, Fcal1<Ftab1 - We accept H1,\\ni.e. The Effects of \",len(st),\" Blocks are equal\")\n",
        "\n"
      ]
    },
    {
      "cell_type": "code",
      "execution_count": null,
      "id": "5ff41114",
      "metadata": {
        "id": "5ff41114",
        "outputId": "35e7dd04-f3ee-4bbe-9394-032b9b8c1cf4"
      },
      "outputs": [
        {
          "name": "stdout",
          "output_type": "stream",
          "text": [
            "Enter the no. of Dependent Variables:2\n",
            "[[133.4605]\n",
            " [ -1.2485]\n",
            " [ -0.351 ]]\n",
            "[100.462  103.1145 102.257   94.9215  96.3655 100.9685 105.416  108.8105\n",
            " 105.2605 105.807  104.714  104.9095]\n",
            "0.5415279038607116\n"
          ]
        }
      ],
      "source": [
        "#Multiple linear Regression.\n",
        "import matplotlib.pyplot as plt\n",
        "import numpy as np\n",
        "import scipy.stats as sy\n",
        "\n",
        "#y = np.array([float(i) for i in input(\"Enter the values of Independent Variable(Y): \").split(\" \")])\n",
        "y=[100,110,105,94,95,99,104,108,105,98,105,110]\n",
        "n=int(input(\"Enter the no. of Dependent Variables:\"))\n",
        "X=[[1 for i in range(np.size(y))],[9,8,7,14,12,10,7,4,6,5,7,6],[62,58,64,60,63,57,55,56,59,61,57,60]]\n",
        "#x=[]\n",
        "#for i in range(n):\n",
        "#    x = [float(i) for i in input(\"Enter the values of Dep Var\"+str(i)+\" : \").split(\" \")]\n",
        "#    X.append(x)\n",
        "Y=np.array([y])\n",
        "Y=Y.T\n",
        "Xtr=X.copy()\n",
        "Xtr=np.array(Xtr)\n",
        "X=np.transpose(X)\n",
        "#print(Xtr,X,Y,y)\n",
        "b1=np.matmul(Xtr,X)\n",
        "b1=np.linalg.inv(b1)\n",
        "b2=np.matmul(Xtr,Y)\n",
        "bcap=np.matmul(b1,b2)\n",
        "bcap=np.round_(bcap,decimals=4)\n",
        "print(bcap)\n",
        "\n",
        "ycap=[float(bcap[0])+float(bcap[1])*Xtr[1][i]+float(bcap[2])*Xtr[2][i] for i in range(np.size(y))]\n",
        "ycap=np.round_(ycap,decimals=4)\n",
        "print(ycap)\n",
        "ybar=np.mean(y)\n",
        "\n",
        "ess=[np.power(y[i]-ycap[i],2) for i in range(np.size(y))]\n",
        "ess=np.sum(ess)\n",
        "tss=[np.power(y[i] - ybar,2) for i in range(np.size(y))]\n",
        "tss=np.sum(tss)\n",
        "rss=tss-ess\n",
        "R2=rss/tss\n",
        "print(R2)"
      ]
    },
    {
      "cell_type": "code",
      "execution_count": null,
      "id": "7d08d27f",
      "metadata": {
        "id": "7d08d27f",
        "outputId": "83a1b974-6d70-4db6-bc7a-5f069fc7d2aa"
      },
      "outputs": [
        {
          "ename": "SyntaxError",
          "evalue": "invalid syntax (Temp/ipykernel_12512/2582091918.py, line 1)",
          "output_type": "error",
          "traceback": [
            "\u001b[1;36m  File \u001b[1;32m\"C:\\Users\\exam2\\AppData\\Local\\Temp/ipykernel_12512/2582091918.py\"\u001b[1;36m, line \u001b[1;32m1\u001b[0m\n\u001b[1;33m    100 110 105 94 95 99 104 108 105 98 105 110\u001b[0m\n\u001b[1;37m        ^\u001b[0m\n\u001b[1;31mSyntaxError\u001b[0m\u001b[1;31m:\u001b[0m invalid syntax\n"
          ]
        }
      ],
      "source": [
        "100 110 105 94 95 99 104 108 105 98 105 110\n",
        "9 8 7 14 12 10 7 4 6 5 7 6\n",
        "62 58 64 60 63 57 55 56 59 61 57 60\n",
        "133.4604\n",
        "-1.2485\n",
        "-0.3510\n",
        "\n",
        "\n",
        "\n",
        "\n",
        "\n",
        "\n",
        "\n",
        "\n",
        "\n",
        "\n",
        "\n",
        "\n",
        "\n",
        "\n"
      ]
    },
    {
      "cell_type": "code",
      "execution_count": null,
      "id": "dafa7c59",
      "metadata": {
        "id": "dafa7c59"
      },
      "outputs": [],
      "source": [
        "import numpy as np\n",
        "a = np.array([[5, 4]])\n",
        "a.T"
      ]
    },
    {
      "cell_type": "code",
      "execution_count": null,
      "id": "e360dc53",
      "metadata": {
        "id": "e360dc53"
      },
      "outputs": [],
      "source": []
    }
  ],
  "metadata": {
    "kernelspec": {
      "display_name": "Python 3 (ipykernel)",
      "language": "python",
      "name": "python3"
    },
    "language_info": {
      "codemirror_mode": {
        "name": "ipython",
        "version": 3
      },
      "file_extension": ".py",
      "mimetype": "text/x-python",
      "name": "python",
      "nbconvert_exporter": "python",
      "pygments_lexer": "ipython3",
      "version": "3.9.7"
    },
    "colab": {
      "provenance": [],
      "include_colab_link": true
    }
  },
  "nbformat": 4,
  "nbformat_minor": 5
}